{
 "cells": [
  {
   "cell_type": "markdown",
   "metadata": {},
   "source": [
    "# Neural Networks\n",
    "In this assignment you will train a neural network to predict the skill of a surgeon performing a fundamental task. The JHU-ISI Gesture and Skill Assessment Working Set [1] [2] is an open-source dataset collected at Johns Hopkins of trainee and expert surgeons performing basic tasks like knot tying, suturing and needle passing with the da Vinci robot[3]. \n",
    "<br>\n",
    "\n",
    "In suturing, surgeons 'stitch up a wound' by passing a needle from one side of the tissue to the other. Check out the included videos to watch the surgeons perform a practice suturing task.\n",
    "<br> \n",
    "\n",
    "In this notebook you will be predicting the skill of the operating surgeon from the suturing kinematics and videos using a <b>2-layer, Temporal Convolutional network</b>[4]. "
   ]
  },
  {
   "cell_type": "markdown",
   "metadata": {},
   "source": [
    "### References \n",
    "[1] Gao, Yixin, et al. \"Jhu-isi gesture and skill assessment working set (jigsaws): A surgical activity dataset for human motion modeling.\" MICCAI Workshop: M2CAI. Vol. 3. 2014. <br>\n",
    "[2] https://cirl.lcsr.jhu.edu/research/hmm/datasets/jigsaws_release/ <br> \n",
    "[3] https://www.intuitive.com/en-us/products-and-services/da-vinci?gclid=Cj0KCQiAwP3yBRCkARIsAABGiPo79mPGJFNXWFc8tEpuRgU_s61N1zsmGR552MFbJ5C_LW12gXlG8AoaAmlIEALw_wcB <br>\n",
    "[4] Lea, Colin, et al. \"Temporal convolutional networks for action segmentation and detection.\" proceedings of the IEEE Conference on Computer Vision and Pattern Recognition. 2017.\n"
   ]
  },
  {
   "cell_type": "markdown",
   "metadata": {},
   "source": [
    "## Installation\n",
    "In this assignment you will use: \n",
    "* os, sys for accessing files\n",
    "* pdb (optional) for debugging\n",
    "* NumPy for vectorized operations\n",
    "* matplotlib for plotting\n",
    "* mpl_toolkits for 3D plotting\n",
    "* utils_hw3_coding for helper functions\n",
    "* PyTorch (for implementing back propagation and neural networks)"
   ]
  },
  {
   "cell_type": "code",
   "execution_count": 1,
   "metadata": {},
   "outputs": [],
   "source": [
    "import os\n",
    "import sys\n",
    "import pdb\n",
    "import numpy as np\n",
    "import matplotlib.cm as cm\n",
    "import matplotlib.pyplot as plt\n",
    "from mpl_toolkits.mplot3d import Axes3D\n",
    "\n",
    "from utils_hw3_coding import *"
   ]
  },
  {
   "cell_type": "code",
   "execution_count": 2,
   "metadata": {},
   "outputs": [],
   "source": [
    "import torch\n",
    "import torch.autograd as autograd\n",
    "from torch.autograd import Variable\n",
    "import torch.nn as nn\n",
    "import torch.nn.functional as F\n",
    "import torch.optim as optim"
   ]
  },
  {
   "cell_type": "markdown",
   "metadata": {},
   "source": [
    "## Read in JIGSAWS Data"
   ]
  },
  {
   "cell_type": "code",
   "execution_count": 3,
   "metadata": {},
   "outputs": [],
   "source": [
    "jigsaws_path = 'JIGSAW/'\n",
    "\n",
    "Train, Test = read_jigsaws_data(jigsaws_path)\n",
    "train_data = Train[0]; train_labels = Train[1]; train_files = Train[2]\n",
    "test_data  = Test[0];  test_labels  = Test[1];  test_files  = Test[2]"
   ]
  },
  {
   "cell_type": "markdown",
   "metadata": {},
   "source": [
    "## Convolutional Neural Network"
   ]
  },
  {
   "cell_type": "code",
   "execution_count": 4,
   "metadata": {},
   "outputs": [],
   "source": [
    "class ConvNet(torch.nn.Module):\n",
    "    def __init__(self):        \n",
    "        super(ConvNet, self).__init__()\n",
    "        # TODO: Fill in the sizes\n",
    "        self.C1   = torch.nn.Conv1d(6, 10, 5)\n",
    "        self.C2   = torch.nn.Conv1d(10, 20, 5)\n",
    "        self.ReLU    = torch.nn.ReLU()\n",
    "        self.Maxpool = torch.nn.MaxPool1d(2)\n",
    "        self.Dropout = torch.nn.Dropout(p=0)\n",
    "        self.L3      = torch.nn.Linear(20*22, 1)\n",
    "        \n",
    "    def forward(self, x, batch_size):\n",
    "        ''' forward pass '''\n",
    "        # TODO: implement the forward pass\n",
    "        x = self.ReLU(self.C1(x))\n",
    "        x = self.Maxpool(x)\n",
    "        x = self.ReLU(self.C2(x))\n",
    "        x = self.Maxpool(x)\n",
    "        x = x.view(batch_size,-1)\n",
    "        x = self.L3(x)\n",
    "        return x\n",
    "#         pass\n",
    "\n",
    "    def predict(self, x, batch_size):\n",
    "        ''' predict labels 0/1 '''\n",
    "        # TODO: implement a predict function that predicts 0 or 1 for each example\n",
    "        x = self.forward(x, batch_size)\n",
    "#         label = x.max(1)\n",
    "        return x\n",
    "#         pass"
   ]
  },
  {
   "cell_type": "code",
   "execution_count": 5,
   "metadata": {},
   "outputs": [],
   "source": [
    "''' Set the Training Parameters '''\n",
    "batch_size  = 100 \n",
    "window_size = 100\n",
    "epochs      = 150\n",
    "learning_rate = 0.0001"
   ]
  },
  {
   "cell_type": "code",
   "execution_count": 6,
   "metadata": {},
   "outputs": [],
   "source": [
    "model = ConvNet()\n",
    "# TODO: Select a loss function\n",
    "# loss_fn = *Binary Cross Entropy* used in Training loop\n",
    "loss_fn = nn.BCEWithLogitsLoss()\n",
    "# TODO: Select an optimizer\n",
    "optimizer = optim.Rprop(model.parameters(), lr=learning_rate)"
   ]
  },
  {
   "cell_type": "code",
   "execution_count": 7,
   "metadata": {},
   "outputs": [
    {
     "name": "stdout",
     "output_type": "stream",
     "text": [
      "Loss: 0.51000440120697024\r"
     ]
    }
   ],
   "source": [
    "''' Training Loop  '''\n",
    "Loss = []\n",
    "Train_Accuracy = []\n",
    "Test_Accuracy  = []\n",
    "\n",
    "for epic in range(epochs):\n",
    "    model.train()\n",
    "    window, window_labels = get_cnn_window(train_data, train_labels, window_size, batch_size)\n",
    "    \n",
    "    ''' ...... '''\n",
    "    # TODO: implement training on your network, compute the loss, update weights\n",
    "    \n",
    "    ''' ...... '''\n",
    "    window = torch.from_numpy(window).float()\n",
    "    window_labels = torch.from_numpy(window_labels).float()\n",
    "    \n",
    "    optimizer.zero_grad()\n",
    "    \n",
    "    out = model(window, batch_size)\n",
    "#     loss = F.binary_cross_entropy(out, window_labels)\n",
    "    loss = loss_fn(out, window_labels)\n",
    "    loss.backward()\n",
    "    optimizer.step()\n",
    "    \n",
    "    Loss.append(loss.detach().item())\n",
    "    print(\"Loss: \" + str(loss.detach().item()), end='\\r')\n",
    "    \n",
    "    if(epic % 10 == 0):\n",
    "        ''' We have implemented the function compute_cnn_accuracy to help you evaluate your network. \n",
    "        It returns the accuracy of the binary skill predictions.'''\n",
    "        train_accuracy, train_predictions = compute_cnn_accuracy(train_data, train_labels, model, window_size)\n",
    "        test_accuracy,  test_predictions  = compute_cnn_accuracy(test_data, test_labels, model, window_size)\n",
    "        Train_Accuracy.append(train_accuracy)\n",
    "        Test_Accuracy.append(test_accuracy)        "
   ]
  },
  {
   "cell_type": "code",
   "execution_count": 8,
   "metadata": {},
   "outputs": [
    {
     "name": "stdout",
     "output_type": "stream",
     "text": [
      "Training Accuracy: 0.8571428571428571\n",
      "Testing Accuracy: 0.9090909090909091\n"
     ]
    }
   ],
   "source": [
    "''' Print out the model accuracy after training '''\n",
    "train_accuracy, train_predictions = compute_cnn_accuracy(train_data, train_labels, model, window_size)\n",
    "test_accuracy,  test_predictions  = compute_cnn_accuracy(test_data, test_labels, model, window_size)\n",
    "\n",
    "print(\"Training Accuracy: \" + str(train_accuracy))\n",
    "print(\"Testing Accuracy: \" + str(test_accuracy))"
   ]
  },
  {
   "cell_type": "code",
   "execution_count": null,
   "metadata": {},
   "outputs": [],
   "source": [
    "''' Evaluate your Network '''\n",
    "# plot the loss \n",
    "fig = plt.figure()\n",
    "plt.plot(Loss, label=\"Loss\")\n",
    "plt.xlabel('Epoch')\n",
    "plt.ylabel('Loss')\n",
    "plt.legend()\n",
    "plt.show()"
   ]
  },
  {
   "cell_type": "code",
   "execution_count": 1,
   "metadata": {},
   "outputs": [
    {
     "ename": "NameError",
     "evalue": "name 'plt' is not defined",
     "output_type": "error",
     "traceback": [
      "\u001b[0;31m---------------------------------------------------------------------------\u001b[0m",
      "\u001b[0;31mNameError\u001b[0m                                 Traceback (most recent call last)",
      "\u001b[0;32m<ipython-input-1-f63fdb815924>\u001b[0m in \u001b[0;36m<module>\u001b[0;34m\u001b[0m\n\u001b[1;32m      1\u001b[0m \u001b[0;34m''' Visualize Accuracy '''\u001b[0m\u001b[0;34m\u001b[0m\u001b[0;34m\u001b[0m\u001b[0m\n\u001b[0;32m----> 2\u001b[0;31m \u001b[0mfig\u001b[0m \u001b[0;34m=\u001b[0m \u001b[0mplt\u001b[0m\u001b[0;34m.\u001b[0m\u001b[0mfigure\u001b[0m\u001b[0;34m(\u001b[0m\u001b[0;34m)\u001b[0m\u001b[0;34m\u001b[0m\u001b[0;34m\u001b[0m\u001b[0m\n\u001b[0m\u001b[1;32m      3\u001b[0m \u001b[0mplt\u001b[0m\u001b[0;34m.\u001b[0m\u001b[0mplot\u001b[0m\u001b[0;34m(\u001b[0m\u001b[0mTrain_Accuracy\u001b[0m\u001b[0;34m,\u001b[0m \u001b[0mlabel\u001b[0m\u001b[0;34m=\u001b[0m\u001b[0;34m\"Train_Accuracy\"\u001b[0m\u001b[0;34m)\u001b[0m\u001b[0;34m\u001b[0m\u001b[0;34m\u001b[0m\u001b[0m\n\u001b[1;32m      4\u001b[0m \u001b[0mplt\u001b[0m\u001b[0;34m.\u001b[0m\u001b[0mplot\u001b[0m\u001b[0;34m(\u001b[0m\u001b[0mTest_Accuracy\u001b[0m\u001b[0;34m,\u001b[0m \u001b[0mlabel\u001b[0m\u001b[0;34m=\u001b[0m\u001b[0;34m\"Test_Accuracy\"\u001b[0m\u001b[0;34m)\u001b[0m\u001b[0;34m\u001b[0m\u001b[0;34m\u001b[0m\u001b[0m\n\u001b[1;32m      5\u001b[0m \u001b[0;34m\u001b[0m\u001b[0m\n",
      "\u001b[0;31mNameError\u001b[0m: name 'plt' is not defined"
     ]
    }
   ],
   "source": [
    "''' Visualize Accuracy '''\n",
    "fig = plt.figure()\n",
    "plt.plot(Train_Accuracy, label=\"Train_Accuracy\")\n",
    "plt.plot(Test_Accuracy, label=\"Test_Accuracy\")\n",
    "\n",
    "plt.ylim([0, 1])\n",
    "plt.legend()\n",
    "plt.show()"
   ]
  },
  {
   "cell_type": "markdown",
   "metadata": {},
   "source": [
    "## Written Questions\n",
    "* We have included a dropout layer in ConvNet. How does changing the probability of setting a neuron to zero change the network performance? Use 2 dropout probabilities you tried in your response. <br><br>\n",
    "\n",
    "<i> Your response here. </i>"
   ]
  },
  {
   "cell_type": "markdown",
   "metadata": {},
   "source": [
    "* How does changing the kernel size in the convolutional layers image the network performance? Explain using two kernel sizes you experimented with. <br><br> \n",
    "\n",
    "<i> Your response here. </i>"
   ]
  },
  {
   "cell_type": "markdown",
   "metadata": {},
   "source": [
    "## Improving Performance"
   ]
  },
  {
   "cell_type": "code",
   "execution_count": 11,
   "metadata": {},
   "outputs": [
    {
     "name": "stdout",
     "output_type": "stream",
     "text": [
      "Training Accuracy: 0.8571428571428571\n",
      "Testing Accuracy: 0.9090909090909091\n"
     ]
    },
    {
     "data": {
      "image/png": "[encoded data removed]",
      "text/plain": [
       "<Figure size 432x288 with 1 Axes>"
      ]
     },
     "metadata": {
      "needs_background": "light"
     },
     "output_type": "display_data"
    },
    {
     "data": {
      "image/png": "[encoded data removed]",
      "text/plain": [
       "<Figure size 432x288 with 1 Axes>"
      ]
     },
     "metadata": {
      "needs_background": "light"
     },
     "output_type": "display_data"
    }
   ],
   "source": [
    "class BestNet(torch.nn.Module):\n",
    "    def __init__(self):        \n",
    "        super(BestNet, self).__init__()\n",
    "        # TODO: Fill in the sizes\n",
    "        self.C1   = torch.nn.Conv1d(6, 10, 3)\n",
    "        self.C2   = torch.nn.Conv1d(10, 20, 3)\n",
    "        self.ReLU    = torch.nn.ReLU()\n",
    "        self.Maxpool = torch.nn.MaxPool1d(2)\n",
    "        self.Dropout = torch.nn.Dropout(p=0.2)\n",
    "        self.L3      = torch.nn.Linear(20*23, 200)\n",
    "        self.L4      = torch.nn.Linear(200, 1)\n",
    "        \n",
    "    def forward(self, x, batch_size):\n",
    "        ''' forward pass '''\n",
    "        # TODO: implement the forward pass\n",
    "        x = self.ReLU(self.C1(x))\n",
    "        x = self.Maxpool(x)\n",
    "        x = self.ReLU(self.C2(x))\n",
    "        x = self.Maxpool(x)\n",
    "        x = x.view(batch_size,-1)\n",
    "        x = self.Dropout(x)\n",
    "        x = self.L3(x)\n",
    "        x = self.Dropout(x)\n",
    "        x = self.L4(x)\n",
    "        return x\n",
    "#         pass\n",
    "\n",
    "    def predict(self, x, batch_size):\n",
    "        ''' predict labels 0/1 '''\n",
    "        # TODO: implement a predict function that predicts 0 or 1 for each example\n",
    "        x = self.forward(x, batch_size)\n",
    "        return x\n",
    "#         pass\n",
    "\n",
    "\n",
    "''' Set the Training Parameters '''\n",
    "batch_size  = 100 \n",
    "window_size = 100\n",
    "epochs      = 150\n",
    "learning_rate = 0.001\n",
    "\n",
    "model2 = BestNet()\n",
    "# TODO: Select a loss function\n",
    "# loss_fn = *Binary Cross Entropy* used in Training loop\n",
    "loss_fn = nn.BCEWithLogitsLoss()\n",
    "# TODO: Select an optimizer\n",
    "optimizer = optim.Rprop(model2.parameters(), lr=learning_rate)\n",
    "\n",
    "\n",
    "\n",
    "''' Training Loop  '''\n",
    "Loss = []\n",
    "Train_Accuracy = []\n",
    "Test_Accuracy  = []\n",
    "\n",
    "for epic in range(epochs):\n",
    "    model2.train()\n",
    "    window, window_labels = get_cnn_window(train_data, train_labels, window_size, batch_size)\n",
    "    \n",
    "    ''' ...... '''\n",
    "    # TODO: implement training on your network, compute the loss, update weights\n",
    "    \n",
    "    ''' ...... '''\n",
    "    window = torch.from_numpy(window).float()\n",
    "    window_labels = torch.from_numpy(window_labels).float()\n",
    "    \n",
    "    optimizer.zero_grad()\n",
    "    \n",
    "    out = model2(window, batch_size)\n",
    "#     loss = F.binary_cross_entropy(out, window_labels)\n",
    "    loss = loss_fn(out, window_labels)\n",
    "    loss.backward()\n",
    "    optimizer.step()\n",
    "    \n",
    "    Loss.append(loss.detach().item())\n",
    "    print(\"Loss: \" + str(loss.detach().item()), end='\\r')\n",
    "    \n",
    "    if(epic % 10 == 0):\n",
    "        ''' We have implemented the function compute_cnn_accuracy to help you evaluate your network. \n",
    "        It returns the accuracy of the binary skill predictions.'''\n",
    "        train_accuracy, train_predictions = compute_cnn_accuracy(train_data, train_labels, model2, window_size)\n",
    "        test_accuracy,  test_predictions  = compute_cnn_accuracy(test_data, test_labels, model2, window_size)\n",
    "        Train_Accuracy.append(train_accuracy)\n",
    "        Test_Accuracy.append(test_accuracy)      \n",
    "        \n",
    "        \n",
    "        \n",
    "''' Print out the model accuracy after training '''\n",
    "train_accuracy, train_predictions = compute_cnn_accuracy(train_data, train_labels, model2, window_size)\n",
    "test_accuracy,  test_predictions  = compute_cnn_accuracy(test_data, test_labels, model2, window_size)\n",
    "\n",
    "print(\"Training Accuracy: \" + str(train_accuracy))\n",
    "print(\"Testing Accuracy: \" + str(test_accuracy))\n",
    "\n",
    "\n",
    "''' Evaluate your Network '''\n",
    "# plot the loss \n",
    "fig = plt.figure()\n",
    "plt.plot(Loss, label=\"Loss\")\n",
    "plt.xlabel('Epoch')\n",
    "plt.ylabel('Loss')\n",
    "plt.legend()\n",
    "plt.show()\n",
    "\n",
    "\n",
    "\n",
    "''' Visualize Accuracy '''\n",
    "fig = plt.figure()\n",
    "plt.plot(Train_Accuracy, label=\"Train_Accuracy\")\n",
    "plt.plot(Test_Accuracy, label=\"Test_Accuracy\")\n",
    "\n",
    "plt.ylim([0, 1])\n",
    "plt.legend()\n",
    "plt.show()"
   ]
  },
  {
   "cell_type": "markdown",
   "metadata": {},
   "source": [
    "## <i> Extra Credit </i>"
   ]
  },
  {
   "cell_type": "code",
   "execution_count": 12,
   "metadata": {},
   "outputs": [],
   "source": [
    "class DeeperNet(torch.nn.Module):\n",
    "    def __init__(self):        \n",
    "        super(DeeperNet, self).__init__()\n",
    "        # TODO: Fill in the sizes\n",
    "        self.C1   = torch.nn.Conv1d(size_1, size_2, size_3)\n",
    "        self.C2   = torch.nn.Conv1d(size_4, size_5, size_6)\n",
    "        self.ReLU    = torch.nn.ReLU()\n",
    "        self.Maxpool = torch.nn.MaxPool1d(2)\n",
    "        self.Dropout = torch.nn.Dropout(p=0)\n",
    "        self.L3      = torch.nn.Linear(size_7, size_8)\n",
    "        \n",
    "    def forward(self, x, batch_size):\n",
    "        ''' forward pass '''\n",
    "        # TODO: implement the forward pass\n",
    "        pass\n",
    "\n",
    "    def predict(self, x, batch_size):\n",
    "        ''' predict labels 0/1 '''\n",
    "        # TODO: implement a predict function that predicts 0 or 1 for each example\n",
    "        pass"
   ]
  }
 ],
 "metadata": {
  "kernelspec": {
   "display_name": "Python 3",
   "language": "python",
   "name": "python3"
  },
  "language_info": {
   "codemirror_mode": {
    "name": "ipython",
    "version": 3
   },
   "file_extension": ".py",
   "mimetype": "text/x-python",
   "name": "python",
   "nbconvert_exporter": "python",
   "pygments_lexer": "ipython3",
   "version": "3.7.3"
  }
 },
 "nbformat": 4,
 "nbformat_minor": 2
}
